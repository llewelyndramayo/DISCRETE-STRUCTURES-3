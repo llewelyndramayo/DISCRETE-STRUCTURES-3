{
 "cells": [
  {
   "cell_type": "markdown",
   "id": "0ff4b473-ad4d-4757-8d0a-cd9af81a408f",
   "metadata": {},
   "source": [
    "# <span style=\"color: red;\">CODE CHALLENGES</span>"
   ]
  },
  {
   "cell_type": "markdown",
   "id": "937ea27f-dce0-4bbd-9982-c33a2d50b304",
   "metadata": {},
   "source": [
    "1. Develop a python function from scratch that will find the determinants of any $n \\times n$ matrix.\n",
    "2. Develop a python function from scratch that will find both the eigenvectors and eigenvalues of any $n \\times n$ matrix.\n",
    "3. Test your functions from a randomly generated $n \\times n$ matrix.\"
   ]
  },
  {
   "cell_type": "code",
   "execution_count": 13,
   "id": "227719f5-1aad-4840-879a-053b2459384d",
   "metadata": {},
   "outputs": [
    {
     "name": "stdout",
     "output_type": "stream",
     "text": [
      "Random Matrix:\n",
      "[[0.86, 0.03], [0.15, 0.08]]\n",
      "Determinant: 0.0643\n",
      "Eigenvalues: [2.387250145039315e-63, 1.7400706844657268e-65]\n",
      "Eigenvectors:\n",
      "[[2.387250145039315e-63, 9.114805531517886e-65], [4.557402765758957e-64, 1.7400706844657268e-65]]\n"
     ]
    }
   ],
   "source": [
    "def minor(matrix, row, col):\n",
    "    return [row[:col] + row[col + 1:] for row in (matrix[:row] + matrix[row + 1:])]\n",
    "\n",
    "def determinant(matrix):\n",
    "    if len(matrix) == 1:\n",
    "        return matrix[0][0]\n",
    "    elif len(matrix) == 2:\n",
    "        return matrix[0][0] * matrix[1][1] - matrix[0][1] * matrix[1][0]\n",
    "    else:\n",
    "        det = 0\n",
    "        for i in range(len(matrix)):\n",
    "            det += ((-1) ** i) * matrix[0][i] * determinant(minor(matrix, 0, i))\n",
    "        return det\n",
    "\n",
    "def transpose(matrix):\n",
    "    return [[matrix[j][i] for j in range(len(matrix))] for i in range(len(matrix[0]))]\n",
    "\n",
    "def matrix_multiply(mat1, mat2):\n",
    "    return [[sum(x * y for x, y in zip(row, col)) for col in transpose(mat2)] for row in mat1]\n",
    "\n",
    "def identity_matrix(size):\n",
    "    return [[1 if i == j else 0 for j in range(size)] for i in range(size)]\n",
    "\n",
    "def eigen(matrix, iterations=1000):\n",
    "    size = len(matrix)\n",
    "    vecs = identity_matrix(size)\n",
    "\n",
    "    for _ in range(iterations):\n",
    "        new_vecs = matrix_multiply(matrix, vecs)\n",
    "        vecs = new_vecs\n",
    "\n",
    "    values = [vecs[i][i] for i in range(size)]\n",
    "\n",
    "    return values, vecs\n",
    "\n",
    "# Example usage\n",
    "n = 2  # Replace with your desired matrix size\n",
    "random_matrix = [[round(np.random.rand(), 2) for _ in range(n)] for _ in range(n)]\n",
    "\n",
    "det = determinant(random_matrix)\n",
    "eigenvalues, eigenvectors = eigen(random_matrix)\n",
    "\n",
    "print(f\"Random Matrix:\\n{random_matrix}\")\n",
    "print(f\"Determinant: {det}\")\n",
    "print(f\"Eigenvalues: {eigenvalues}\")\n",
    "print(f\"Eigenvectors:\\n{eigenvectors}\")\n",
    "\n"
   ]
  }
 ],
 "metadata": {
  "kernelspec": {
   "display_name": "Python 3 (ipykernel)",
   "language": "python",
   "name": "python3"
  },
  "language_info": {
   "codemirror_mode": {
    "name": "ipython",
    "version": 3
   },
   "file_extension": ".py",
   "mimetype": "text/x-python",
   "name": "python",
   "nbconvert_exporter": "python",
   "pygments_lexer": "ipython3",
   "version": "3.11.5"
  }
 },
 "nbformat": 4,
 "nbformat_minor": 5
}
